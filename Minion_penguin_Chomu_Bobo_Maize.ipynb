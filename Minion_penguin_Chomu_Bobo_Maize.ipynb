{
 "cells": [
  {
   "cell_type": "code",
   "execution_count": 1,
   "id": "ab67ef07",
   "metadata": {},
   "outputs": [],
   "source": [
    "import os\n",
    "import pandas as pd\n",
    "from collections import Counter\n",
    "import nltk\n",
    "from nltk.tokenize import word_tokenize\n",
    "from nltk.corpus import stopwords\n",
    "from nltk.util import ngrams \n",
    "import fitz\n",
    "from nltk.stem import PorterStemmer "
   ]
  },
  {
   "cell_type": "code",
   "execution_count": 2,
   "id": "0e4e913b",
   "metadata": {},
   "outputs": [],
   "source": [
    "def extract_relevant_text(pdf_file):\n",
    "    doc = fitz.open(pdf_file)\n",
    "    text = \"\"\n",
    "    capture = False\n",
    "    for page in doc:\n",
    "        page_text = page.get_text()\n",
    "        if \"abstract\" in page_text.lower():\n",
    "            capture = True\n",
    "        if \"references\" in page_text.lower():\n",
    "            capture = False\n",
    "        if capture:\n",
    "            text += page_text + \" \"\n",
    "    return text.lower()       "
   ]
  },
  {
   "cell_type": "code",
   "execution_count": 3,
   "id": "f8c9eeba",
   "metadata": {},
   "outputs": [],
   "source": [
    "input_folder = \"m_t_s_n_m/\" \n",
    "output_folder = \"output254\" \n",
    "os.makedirs(output_folder , exist_ok=True)  "
   ]
  },
  {
   "cell_type": "code",
   "execution_count": 4,
   "id": "1bc4cf8d",
   "metadata": {},
   "outputs": [],
   "source": [
    "from nltk.stem import PorterStemmer \n",
    "\n",
    "stop_words = set(stopwords.words('english'))\n",
    "stemmer = PorterStemmer() \n",
    "lemm = nltk.WordNetLemmatizer() \n",
    "unwanted_words = {'article', 'et', 'al', 'terms', 'conditions','publication','cititation', 'open', 'access', 'license', 'cc', 'by', 'creative', 'commons', 'attribution'}"
   ]
  },
  {
   "cell_type": "code",
   "execution_count": 5,
   "id": "f052e078",
   "metadata": {},
   "outputs": [],
   "source": [
    "global_bigram_counts = Counter()\n",
    "global_trigram_counts = Counter()\n",
    "bigram_paper_counts = {}\n",
    "trigram_paper_counts = {} "
   ]
  },
  {
   "cell_type": "code",
   "execution_count": 6,
   "id": "95700649",
   "metadata": {},
   "outputs": [],
   "source": [
    "for file_name in os.listdir(input_folder):\n",
    "    if file_name.endswith(\".pdf\"):\n",
    "        pdf_path = os.path.join(input_folder, file_name)\n",
    "        raw_text = extract_relevant_text(pdf_path)\n",
    "        tokens = word_tokenize(raw_text)\n",
    "        tokens = [word for word in tokens if word.isalpha() and word not in stop_words and word not in unwanted_words]\n",
    "        bigram_list = list(ngrams(tokens, 2))\n",
    "        trigram_list = list(ngrams(tokens, 3))\n",
    "\n",
    "        bigram_counts = Counter(bigram_list)\n",
    "        trigram_counts = Counter(trigram_list)\n",
    "\n",
    "        global_bigram_counts.update(bigram_counts)\n",
    "        global_trigram_counts.update(trigram_counts)\n",
    "\n",
    "        bigram_paper_counts[file_name] = bigram_counts\n",
    "        trigram_paper_counts[file_name] = trigram_counts\n",
    "\n",
    "        paper_folder = os.path.join(output_folder, file_name.split('.')[0])\n",
    "        os.makedirs(paper_folder, exist_ok=True)\n",
    "        \n",
    "        with open(os.path.join(paper_folder, f\"{file_name.split('.')[0]}_n_gram.txt\"), \"w\", encoding=\"utf-8\") as ngram_file:\n",
    "            ngram_file.write(\"Bigrams:\\n\")\n",
    "            for bigram, count in bigram_counts.items():\n",
    "                ngram_file.write(f\"{' '.join(bigram)}: {count}\\n\")\n",
    "            \n",
    "            ngram_file.write(\"\\nTrigrams:\\n\")\n",
    "            for trigram, count in trigram_counts.items():\n",
    "                ngram_file.write(f\"{' '.join(trigram)}: {count}\\n\") "
   ]
  },
  {
   "cell_type": "code",
   "execution_count": 7,
   "id": "77416ba6",
   "metadata": {},
   "outputs": [],
   "source": [
    "top_200_bigrams = global_bigram_counts.most_common(200)\n",
    "top_200_trigrams = global_trigram_counts.most_common(200)\n",
    "\n",
    "top_ngram_file = os.path.join(output_folder, \"top_ngrams.txt\")\n",
    "with open(top_ngram_file, \"w\", encoding=\"utf-8\") as top_file:\n",
    "    top_file.write(\"Top 200 Bigrams:\\n\")\n",
    "    for bigram, count in top_200_bigrams:\n",
    "        top_file.write(f\"{' '.join(bigram)}: {count}\\n\")\n",
    "\n",
    "    top_file.write(\"\\nTop 200 Trigrams:\\n\")\n",
    "    for trigram, count in top_200_trigrams:\n",
    "        top_file.write(f\"{' '.join(trigram)}: {count}\\n\")\n",
    "\n",
    "bigram_strings = [' '.join(bigram) for bigram, _ in top_200_bigrams]\n",
    "trigram_strings = [' '.join(trigram) for trigram, _ in top_200_trigrams]\n",
    "\n",
    "bigram_matrix = pd.DataFrame(0, index=bigram_strings, columns=bigram_paper_counts.keys())\n",
    "trigram_matrix = pd.DataFrame(0, index=trigram_strings, columns=trigram_paper_counts.keys())\n",
    "\n",
    "for paper, bigram_counts in bigram_paper_counts.items():\n",
    "    for bigram, _ in top_200_bigrams:\n",
    "        bigram_str = ' '.join(bigram)\n",
    "        bigram_matrix.at[bigram_str, paper] = bigram_counts.get(bigram, 0)\n",
    "\n",
    "for paper, trigram_counts in trigram_paper_counts.items():\n",
    "    for trigram, _ in top_200_trigrams:\n",
    "        trigram_str = ' '.join(trigram)\n",
    "        trigram_matrix.at[trigram_str, paper] = trigram_counts.get(trigram, 0)\n",
    "\n",
    "bigram_matrix.to_csv(os.path.join(output_folder, \"bigram_cooccurrence_matrix.csv\"))\n",
    "trigram_matrix.to_csv(os.path.join(output_folder, \"trigram_cooccurrence_matrix.csv\")) "
   ]
  },
  {
   "cell_type": "code",
   "execution_count": 8,
   "id": "b9486dc3",
   "metadata": {},
   "outputs": [],
   "source": [
    "df_bigrams = pd.read_csv(os.path.join(output_folder, \"bigram_cooccurrence_matrix.csv\"), index_col=0)\n",
    "filtered_bigrams = df_bigrams[(df_bigrams.sum(axis=1) > 20)] "
   ]
  },
  {
   "cell_type": "code",
   "execution_count": 9,
   "id": "c52e8d12",
   "metadata": {},
   "outputs": [],
   "source": [
    "df_trigrams = pd.read_csv(os.path.join(output_folder, \"trigram_cooccurrence_matrix.csv\"), index_col=0)\n",
    "filtered_trigrams = df_trigrams[(df_trigrams.sum(axis=1) > 20)] "
   ]
  },
  {
   "cell_type": "code",
   "execution_count": 11,
   "id": "66013af0",
   "metadata": {},
   "outputs": [],
   "source": [
    "from scipy.spatial import distance \n",
    "\n",
    "sim_list_bigrams = []\n",
    "for i in range(len(filtered_bigrams)):\n",
    "    for j in range(i + 1, len(filtered_bigrams)):\n",
    "        row_1 = filtered_bigrams.iloc[i, :]\n",
    "        row_2 = filtered_bigrams.iloc[j, :]\n",
    "        cosine = 1 - distance.cosine(row_1, row_2)\n",
    "        sim_list_bigrams.append({\n",
    "            'ngram1': filtered_bigrams.index[i],\n",
    "            'ngram2': filtered_bigrams.index[j],\n",
    "            'cosine': cosine\n",
    "        }) "
   ]
  },
  {
   "cell_type": "code",
   "execution_count": 12,
   "id": "138eba82",
   "metadata": {},
   "outputs": [],
   "source": [
    "sim_list_trigrams = []\n",
    "for i in range(len(filtered_trigrams)):\n",
    "    for j in range(i + 1, len(filtered_trigrams)):\n",
    "        row_1 = filtered_trigrams.iloc[i, :]\n",
    "        row_2 = filtered_trigrams.iloc[j, :]\n",
    "        cosine = 1 - distance.cosine(row_1, row_2)\n",
    "        sim_list_trigrams.append({\n",
    "            'ngram1': filtered_trigrams.index[i],\n",
    "            'ngram2': filtered_trigrams.index[j],\n",
    "            'cosine': cosine\n",
    "        }) "
   ]
  },
  {
   "cell_type": "code",
   "execution_count": 15,
   "id": "e61c0fe7",
   "metadata": {},
   "outputs": [],
   "source": [
    "sorted_bigrams = pd.DataFrame(sim_list_bigrams).sort_values(by='cosine', ascending=False)\n",
    "sorted_trigrams = pd.DataFrame(sim_list_trigrams).sort_values(by='cosine', ascending=False)\n",
    "\n",
    "sorted_bigrams.to_csv(os.path.join(output_folder, \"cosine_similarity_bigrams.csv\"), index=False)\n",
    "sorted_trigrams.to_csv(os.path.join(output_folder, \"cosine_similarity_trigrams.csv\"), index=False)\n"
   ]
  },
  {
   "cell_type": "code",
   "execution_count": 16,
   "id": "7044a4c2",
   "metadata": {},
   "outputs": [
    {
     "name": "stdout",
     "output_type": "stream",
     "text": [
      "Top 50 bigram similarities:\n",
      "                  ngram1                 ngram2  cosine\n",
      "16289         dcnn model          proposed dcnn     1.0\n",
      "12586        spot severe      improved cyclegan     1.0\n",
      "1858           mild corn  feature recombination     1.0\n",
      "1843           mild corn            rust severe     1.0\n",
      "12549        spot severe              spot mild     1.0\n",
      "12550        spot severe            blight mild     1.0\n",
      "12551        spot severe          blight severe     1.0\n",
      "12552        spot severe              rust mild     1.0\n",
      "12553        spot severe            rust severe     1.0\n",
      "12568        spot severe  feature recombination     1.0\n",
      "12635          spot mild            blight mild     1.0\n",
      "12755        blight mild      improved cyclegan     1.0\n",
      "12636          spot mild          blight severe     1.0\n",
      "12637          spot mild              rust mild     1.0\n",
      "12638          spot mild            rust severe     1.0\n",
      "12653          spot mild  feature recombination     1.0\n",
      "12671          spot mild      improved cyclegan     1.0\n",
      "12720        blight mild          blight severe     1.0\n",
      "12721        blight mild              rust mild     1.0\n",
      "12722        blight mild            rust severe     1.0\n",
      "1876           mild corn      improved cyclegan     1.0\n",
      "4577           corn gray            blight mild     1.0\n",
      "2108         severe corn              corn gray     1.0\n",
      "2156         severe corn      original cyclegan     1.0\n",
      "4579           corn gray              rust mild     1.0\n",
      "4580           corn gray            rust severe     1.0\n",
      "4595           corn gray  feature recombination     1.0\n",
      "4576           corn gray              spot mild     1.0\n",
      "4575           corn gray            spot severe     1.0\n",
      "4556           corn gray      original cyclegan     1.0\n",
      "10539              ns ns                    r h     1.0\n",
      "10616              ns ns           zero tillage     1.0\n",
      "10763  original cyclegan  feature recombination     1.0\n",
      "2213         severe corn      improved cyclegan     1.0\n",
      "2195         severe corn  feature recombination     1.0\n",
      "2180         severe corn            rust severe     1.0\n",
      "2179         severe corn              rust mild     1.0\n",
      "2178         severe corn          blight severe     1.0\n",
      "2177         severe corn            blight mild     1.0\n",
      "2176         severe corn              spot mild     1.0\n",
      "2175         severe corn            spot severe     1.0\n",
      "12737        blight mild  feature recombination     1.0\n",
      "4578           corn gray          blight severe     1.0\n",
      "12804      blight severe              rust mild     1.0\n",
      "1842           mild corn              rust mild     1.0\n",
      "15897     dynamics maize       disease dynamics     1.0\n",
      "12805      blight severe            rust severe     1.0\n",
      "15113     adam optimizer          proposed dcnn     1.0\n",
      "15112     adam optimizer             dcnn model     1.0\n",
      "1819           mild corn      original cyclegan     1.0\n"
     ]
    }
   ],
   "source": [
    "print(\"Top 50 bigram similarities:\")\n",
    "print(sorted_bigrams.head(50)) "
   ]
  },
  {
   "cell_type": "code",
   "execution_count": 17,
   "id": "f12aef27",
   "metadata": {},
   "outputs": [
    {
     "name": "stdout",
     "output_type": "stream",
     "text": [
      "\n",
      "Top 50 trigram similarities:\n",
      "                    ngram1               ngram2  cosine\n",
      "978     blight severe corn       mild corn rust     1.0\n",
      "785       leaf spot severe   blight severe corn     1.0\n",
      "904       leaf blight mild     corn rust severe     1.0\n",
      "903       leaf blight mild       mild corn rust     1.0\n",
      "789       leaf spot severe       mild corn rust     1.0\n",
      "788       leaf spot severe       rust mild corn     1.0\n",
      "787       leaf spot severe       corn rust mild     1.0\n",
      "786       leaf spot severe     severe corn rust     1.0\n",
      "784       leaf spot severe   leaf blight severe     1.0\n",
      "780       leaf spot severe       leaf spot mild     1.0\n",
      "783       leaf spot severe     blight mild corn     1.0\n",
      "902       leaf blight mild       rust mild corn     1.0\n",
      "901       leaf blight mild       corn rust mild     1.0\n",
      "100         corn gray leaf       mild corn leaf     1.0\n",
      "1071        mild corn rust     rust severe corn     1.0\n",
      "782       leaf spot severe     leaf blight mild     1.0\n",
      "790       leaf spot severe     corn rust severe     1.0\n",
      "910       leaf blight mild     rust severe corn     1.0\n",
      "1030        corn rust mild     rust severe corn     1.0\n",
      "1024        corn rust mild     corn rust severe     1.0\n",
      "1265  post flowering stalk  flowering stalk rot     1.0\n",
      "1023        corn rust mild       mild corn rust     1.0\n",
      "855         leaf spot mild     rust severe corn     1.0\n",
      "924       blight mild corn   leaf blight severe     1.0\n",
      "1022        corn rust mild       rust mild corn     1.0\n",
      "925       blight mild corn   blight severe corn     1.0\n",
      "1008      severe corn rust     rust severe corn     1.0\n",
      "195         mild corn leaf     severe corn gray     1.0\n",
      "926       blight mild corn     severe corn rust     1.0\n",
      "927       blight mild corn       corn rust mild     1.0\n",
      "928       blight mild corn       rust mild corn     1.0\n",
      "1002      severe corn rust     corn rust severe     1.0\n",
      "930       blight mild corn     corn rust severe     1.0\n",
      "781       leaf spot severe       spot mild corn     1.0\n",
      "779       leaf spot severe     spot severe corn     1.0\n",
      "936       blight mild corn     rust severe corn     1.0\n",
      "872         spot mild corn   blight severe corn     1.0\n",
      "125         corn gray leaf       rust mild corn     1.0\n",
      "126         corn gray leaf       mild corn rust     1.0\n",
      "127         corn gray leaf     corn rust severe     1.0\n",
      "1065        mild corn rust     corn rust severe     1.0\n",
      "874         spot mild corn       corn rust mild     1.0\n",
      "873         spot mild corn     severe corn rust     1.0\n",
      "133         corn gray leaf     rust severe corn     1.0\n",
      "900       leaf blight mild     severe corn rust     1.0\n",
      "1044        rust mild corn       mild corn rust     1.0\n",
      "869         spot mild corn     leaf blight mild     1.0\n",
      "870         spot mild corn     blight mild corn     1.0\n",
      "871         spot mild corn   leaf blight severe     1.0\n",
      "1045        rust mild corn     corn rust severe     1.0\n"
     ]
    }
   ],
   "source": [
    "print(\"\\nTop 50 trigram similarities:\")\n",
    "print(sorted_trigrams.head(50)) "
   ]
  },
  {
   "cell_type": "code",
   "execution_count": 18,
   "id": "b4368abc",
   "metadata": {},
   "outputs": [],
   "source": [
    "def jaccard_similarity(set1, set2):\n",
    "    intersection = len(set1.intersection(set2))\n",
    "    union = len(set1.union(set2))\n",
    "    return intersection / union if union != 0 else 0 "
   ]
  },
  {
   "cell_type": "code",
   "execution_count": 19,
   "id": "6055e9a8",
   "metadata": {},
   "outputs": [],
   "source": [
    "df_bigrams = pd.read_csv(os.path.join(output_folder, \"bigram_cooccurrence_matrix.csv\"), index_col=0)\n",
    "filtered_bigrams = df_bigrams[(df_bigrams.sum(axis=1) > 20)] "
   ]
  },
  {
   "cell_type": "code",
   "execution_count": 20,
   "id": "bd2bd938",
   "metadata": {},
   "outputs": [],
   "source": [
    "df_trigrams = pd.read_csv(os.path.join(output_folder, \"trigram_cooccurrence_matrix.csv\"), index_col=0)\n",
    "filtered_trigrams = df_trigrams[(df_trigrams.sum(axis=1) > 20)] "
   ]
  },
  {
   "cell_type": "code",
   "execution_count": 24,
   "id": "2c54d131",
   "metadata": {},
   "outputs": [],
   "source": [
    "jaccard_list_bigrams = []\n",
    "for i in range(len(filtered_bigrams)):\n",
    "    for j in range(i + 1, len(filtered_bigrams)):\n",
    "        set1 = set(filtered_bigrams.iloc[i, :].to_numpy().nonzero()[0])\n",
    "        set2 = set(filtered_bigrams.iloc[j, :].to_numpy().nonzero()[0])\n",
    "        jaccard = jaccard_similarity(set1, set2)\n",
    "        jaccard_list_bigrams.append({'ngram1': filtered_bigrams.index[i], 'ngram2': filtered_bigrams.index[j], 'jaccard': jaccard})\n"
   ]
  },
  {
   "cell_type": "code",
   "execution_count": 25,
   "id": "c2ac0b16",
   "metadata": {},
   "outputs": [],
   "source": [
    "jaccard_list_trigrams = []\n",
    "for i in range(len(filtered_trigrams)):\n",
    "    for j in range(i + 1, len(filtered_trigrams)):\n",
    "        set1 = set(filtered_trigrams.iloc[i, :].to_numpy().nonzero()[0])\n",
    "        set2 = set(filtered_trigrams.iloc[j, :].to_numpy().nonzero()[0])\n",
    "        jaccard = jaccard_similarity(set1, set2)\n",
    "        jaccard_list_trigrams.append({'ngram1': filtered_trigrams.index[i], 'ngram2': filtered_trigrams.index[j], 'jaccard': jaccard}) "
   ]
  },
  {
   "cell_type": "code",
   "execution_count": 26,
   "id": "20d3953c",
   "metadata": {},
   "outputs": [],
   "source": [
    "sorted_bigrams = pd.DataFrame(jaccard_list_bigrams).sort_values(by='jaccard', ascending=False)\n",
    "sorted_trigrams = pd.DataFrame(jaccard_list_trigrams).sort_values(by='jaccard', ascending=False)\n",
    "\n",
    "sorted_bigrams.to_csv(os.path.join(output_folder, \"jaccard_similarity_bigrams.csv\"), index=False)\n",
    "sorted_trigrams.to_csv(os.path.join(output_folder, \"jaccard_similarity_trigrams.csv\"), index=False) "
   ]
  },
  {
   "cell_type": "code",
   "execution_count": 27,
   "id": "26a38b7f",
   "metadata": {},
   "outputs": [
    {
     "name": "stdout",
     "output_type": "stream",
     "text": [
      "Top 50 bigram Jaccard similarities:\n",
      "                       ngram1                 ngram2  jaccard\n",
      "16289              dcnn model          proposed dcnn      1.0\n",
      "10781       original cyclegan      improved cyclegan      1.0\n",
      "4579                corn gray              rust mild      1.0\n",
      "4580                corn gray            rust severe      1.0\n",
      "4595                corn gray  feature recombination      1.0\n",
      "4613                corn gray      improved cyclegan      1.0\n",
      "6439            learning rate          loss function      1.0\n",
      "6459            learning rate            feature map      1.0\n",
      "6522            learning rate    disease recognition      1.0\n",
      "7120         generated images         improved model      1.0\n",
      "7136         generated images         disease images      1.0\n",
      "7173         generated images         cyclegan model      1.0\n",
      "7224         generated images       image generation      1.0\n",
      "8555           improved model         disease images      1.0\n",
      "8592           improved model         cyclegan model      1.0\n",
      "8643           improved model       image generation      1.0\n",
      "9049            loss function            feature map      1.0\n",
      "9112            loss function    disease recognition      1.0\n",
      "10331             kernels per         number kernels      1.0\n",
      "10440          disease images         cyclegan model      1.0\n",
      "10491          disease images       image generation      1.0\n",
      "10539                   ns ns                    r h      1.0\n",
      "10616                   ns ns           zero tillage      1.0\n",
      "10707  classiﬁcation accuracy  disease classiﬁcation      1.0\n",
      "10743       original cyclegan            spot severe      1.0\n",
      "10745       original cyclegan            blight mild      1.0\n",
      "10746       original cyclegan          blight severe      1.0\n",
      "10747       original cyclegan              rust mild      1.0\n",
      "10748       original cyclegan            rust severe      1.0\n",
      "4578                corn gray          blight severe      1.0\n",
      "4577                corn gray            blight mild      1.0\n",
      "4576                corn gray              spot mild      1.0\n",
      "2175              severe corn            spot severe      1.0\n",
      "1771                mild corn              corn gray      1.0\n",
      "1819                mild corn      original cyclegan      1.0\n",
      "1838                mild corn            spot severe      1.0\n",
      "1839                mild corn              spot mild      1.0\n",
      "1840                mild corn            blight mild      1.0\n",
      "1841                mild corn          blight severe      1.0\n",
      "1842                mild corn              rust mild      1.0\n",
      "1843                mild corn            rust severe      1.0\n",
      "1858                mild corn  feature recombination      1.0\n",
      "1876                mild corn      improved cyclegan      1.0\n",
      "2108              severe corn              corn gray      1.0\n",
      "2156              severe corn      original cyclegan      1.0\n",
      "2176              severe corn              spot mild      1.0\n",
      "4575                corn gray            spot severe      1.0\n",
      "2177              severe corn            blight mild      1.0\n",
      "2178              severe corn          blight severe      1.0\n",
      "2179              severe corn              rust mild      1.0\n"
     ]
    }
   ],
   "source": [
    "print(\"Top 50 bigram Jaccard similarities:\")\n",
    "print(sorted_bigrams.head(50)) "
   ]
  },
  {
   "cell_type": "code",
   "execution_count": 28,
   "id": "b65c3e75",
   "metadata": {},
   "outputs": [
    {
     "name": "stdout",
     "output_type": "stream",
     "text": [
      "\n",
      "Top 50 trigram Jaccard similarities:\n",
      "                    ngram1               ngram2  jaccard\n",
      "975     blight severe corn     severe corn rust      1.0\n",
      "116         corn gray leaf     spot severe corn      1.0\n",
      "118         corn gray leaf       spot mild corn      1.0\n",
      "119         corn gray leaf     leaf blight mild      1.0\n",
      "120         corn gray leaf     blight mild corn      1.0\n",
      "121         corn gray leaf   leaf blight severe      1.0\n",
      "122         corn gray leaf   blight severe corn      1.0\n",
      "123         corn gray leaf     severe corn rust      1.0\n",
      "124         corn gray leaf       corn rust mild      1.0\n",
      "125         corn gray leaf       rust mild corn      1.0\n",
      "126         corn gray leaf       mild corn rust      1.0\n",
      "127         corn gray leaf     corn rust severe      1.0\n",
      "985     blight severe corn     rust severe corn      1.0\n",
      "999       severe corn rust       corn rust mild      1.0\n",
      "133         corn gray leaf     rust severe corn      1.0\n",
      "1000      severe corn rust       rust mild corn      1.0\n",
      "1001      severe corn rust       mild corn rust      1.0\n",
      "1002      severe corn rust     corn rust severe      1.0\n",
      "1008      severe corn rust     rust severe corn      1.0\n",
      "117         corn gray leaf       leaf spot mild      1.0\n",
      "115         corn gray leaf     leaf spot severe      1.0\n",
      "1023        corn rust mild       mild corn rust      1.0\n",
      "979     blight severe corn     corn rust severe      1.0\n",
      "929       blight mild corn       mild corn rust      1.0\n",
      "930       blight mild corn     corn rust severe      1.0\n",
      "936       blight mild corn     rust severe corn      1.0\n",
      "950     leaf blight severe   blight severe corn      1.0\n",
      "951     leaf blight severe     severe corn rust      1.0\n",
      "952     leaf blight severe       corn rust mild      1.0\n",
      "953     leaf blight severe       rust mild corn      1.0\n",
      "954     leaf blight severe       mild corn rust      1.0\n",
      "955     leaf blight severe     corn rust severe      1.0\n",
      "100         corn gray leaf       mild corn leaf      1.0\n",
      "102         corn gray leaf     severe corn gray      1.0\n",
      "961     leaf blight severe     rust severe corn      1.0\n",
      "213         mild corn leaf     blight mild corn      1.0\n",
      "599      maize leaf images   healthy maize leaf      1.0\n",
      "976     blight severe corn       corn rust mild      1.0\n",
      "977     blight severe corn       rust mild corn      1.0\n",
      "978     blight severe corn       mild corn rust      1.0\n",
      "1022        corn rust mild       rust mild corn      1.0\n",
      "1024        corn rust mild     corn rust severe      1.0\n",
      "1265  post flowering stalk  flowering stalk rot      1.0\n",
      "302       severe corn gray     blight mild corn      1.0\n",
      "300       severe corn gray       spot mild corn      1.0\n",
      "299       severe corn gray       leaf spot mild      1.0\n",
      "298       severe corn gray     spot severe corn      1.0\n",
      "297       severe corn gray     leaf spot severe      1.0\n",
      "195         mild corn leaf     severe corn gray      1.0\n",
      "226         mild corn leaf     rust severe corn      1.0\n"
     ]
    }
   ],
   "source": [
    "print(\"\\nTop 50 trigram Jaccard similarities:\")\n",
    "print(sorted_trigrams.head(50)) "
   ]
  },
  {
   "cell_type": "code",
   "execution_count": null,
   "id": "45eeb370",
   "metadata": {},
   "outputs": [],
   "source": []
  }
 ],
 "metadata": {
  "kernelspec": {
   "display_name": "Python 3 (ipykernel)",
   "language": "python",
   "name": "python3"
  },
  "language_info": {
   "codemirror_mode": {
    "name": "ipython",
    "version": 3
   },
   "file_extension": ".py",
   "mimetype": "text/x-python",
   "name": "python",
   "nbconvert_exporter": "python",
   "pygments_lexer": "ipython3",
   "version": "3.11.3"
  }
 },
 "nbformat": 4,
 "nbformat_minor": 5
}
